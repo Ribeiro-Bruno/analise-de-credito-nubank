{
 "cells": [
  {
   "cell_type": "code",
   "execution_count": null,
   "metadata": {
    "pycharm": {
     "name": "#%%\n",
     "is_executing": true
    }
   },
   "outputs": [],
   "source": [
    "import pandas as pd\n",
    "import matplotlib.pyplot as plt\n",
    "import seaborn as sns\n",
    "import numpy as np\n",
    "\n",
    "# Definir o estilo do seaborn para os plots\n",
    "sns.set_style()\n",
    "import warnings\n",
    "warnings.filterwarnings('ignore')\n",
    "df = pd.read_csv('nubank.csv')"
   ]
  },
  {
   "cell_type": "code",
   "execution_count": 64,
   "outputs": [
    {
     "name": "stdout",
     "output_type": "stream",
     "text": [
      "Dimensões do DataFrame: \n",
      "Linhas:\t\t45000\n",
      "Colunas:\t43\n"
     ]
    },
    {
     "data": {
      "text/plain": "                                    ids target_default  \\\n0  343b7e7b-2cf8-e508-b8fd-0a0285af30aa          False   \n1  bc2c7502-bbad-0f8c-39c3-94e881967124          False   \n2  669630dd-2e6a-0396-84bf-455e5009c922           True   \n3  d235609e-b6cb-0ccc-a329-d4f12e7ebdc1          False   \n4  9e0eb880-e8f4-3faa-67d8-f5cdd2b3932b          False   \n\n                    score_1                   score_2  score_3     score_4  \\\n0  1Rk8w4Ucd5yR3KcqZzLdow==  IOVu8au3ISbo6+zmfnYwMg==    350.0  101.800832   \n1  DGCQep2AE5QRkNCshIAlFQ==  SaamrHMo23l/3TwXOWgVzw==    370.0   97.062615   \n2  DGCQep2AE5QRkNCshIAlFQ==  Fv28Bz0YRTVAT5kl1bAV6g==    360.0  100.027073   \n3  1Rk8w4Ucd5yR3KcqZzLdow==  dCm9hFKfdRm7ej3jW+gyxw==    510.0  101.599485   \n4  8k8UDR4Yx0qasAjkGrUZLw==  +CxEO4w7jv3QPI/BQbyqAA==    500.0   98.474289   \n\n    score_5     score_6  risk_rate  last_amount_borrowed  ...  \\\n0  0.259555  108.427273       0.40              25033.92  ...   \n1  0.942655   92.002546       0.24                   NaN  ...   \n2  0.351918  112.892453       0.29               7207.92  ...   \n3  0.987673   94.902491       0.32                   NaN  ...   \n4  0.532539  118.126207       0.18                   NaN  ...   \n\n   external_data_provider_fraud_score  \\\n0                                 645   \n1                                 243   \n2                                  65   \n3                                 815   \n4                                 320   \n\n                                      lat_lon marketing_channel  \\\n0    (-29.151545708122246, -51.1386461804385)      Invite-email   \n1   (-19.687710705798963, -47.94151536525154)  Radio-commercial   \n2  (-28.748023890412284, -51.867279334353995)      Waiting-list   \n3   (-17.520650158450454, -39.75801139933186)      Waiting-list   \n4   (-16.574259446978008, -39.90990074785962)      Invite-email   \n\n   profile_phone_number reported_income shipping_state shipping_zip_code  \\\n0           514-9840782         57849.0          BR-MT             17528   \n1           251-3659293          4902.0          BR-RS             40933   \n2           230-6097993        163679.0          BR-RR             50985   \n3           261-3543751          1086.0          BR-RN             37825   \n4           102-3660162        198618.0          BR-MT             52827   \n\n                                profile_tags  \\\n0                    {'tags': ['n19', 'n8']}   \n1              {'tags': ['n6', 'n7', 'nim']}   \n2       {'tags': ['n0', 'n17', 'nim', 'da']}   \n3                           {'tags': ['n4']}   \n4  {'tags': ['pro+aty', 'n19', 'da', 'b19']}   \n\n                                          user_agent target_fraud  \n0  Mozilla/5.0 (Linux; Android 6.0.1; SGP771 Buil...          NaN  \n1  Mozilla/5.0 (Linux; Android 5.0.2; SAMSUNG SM-...          NaN  \n2  Mozilla/5.0 (Linux; Android 6.0.1; SGP771 Buil...          NaN  \n3  Mozilla/5.0 (Linux; Android 6.0; HTC One X10 B...          NaN  \n4  Mozilla/5.0 (Linux; Android 7.0; Pixel C Build...          NaN  \n\n[5 rows x 43 columns]",
      "text/html": "<div>\n<style scoped>\n    .dataframe tbody tr th:only-of-type {\n        vertical-align: middle;\n    }\n\n    .dataframe tbody tr th {\n        vertical-align: top;\n    }\n\n    .dataframe thead th {\n        text-align: right;\n    }\n</style>\n<table border=\"1\" class=\"dataframe\">\n  <thead>\n    <tr style=\"text-align: right;\">\n      <th></th>\n      <th>ids</th>\n      <th>target_default</th>\n      <th>score_1</th>\n      <th>score_2</th>\n      <th>score_3</th>\n      <th>score_4</th>\n      <th>score_5</th>\n      <th>score_6</th>\n      <th>risk_rate</th>\n      <th>last_amount_borrowed</th>\n      <th>...</th>\n      <th>external_data_provider_fraud_score</th>\n      <th>lat_lon</th>\n      <th>marketing_channel</th>\n      <th>profile_phone_number</th>\n      <th>reported_income</th>\n      <th>shipping_state</th>\n      <th>shipping_zip_code</th>\n      <th>profile_tags</th>\n      <th>user_agent</th>\n      <th>target_fraud</th>\n    </tr>\n  </thead>\n  <tbody>\n    <tr>\n      <th>0</th>\n      <td>343b7e7b-2cf8-e508-b8fd-0a0285af30aa</td>\n      <td>False</td>\n      <td>1Rk8w4Ucd5yR3KcqZzLdow==</td>\n      <td>IOVu8au3ISbo6+zmfnYwMg==</td>\n      <td>350.0</td>\n      <td>101.800832</td>\n      <td>0.259555</td>\n      <td>108.427273</td>\n      <td>0.40</td>\n      <td>25033.92</td>\n      <td>...</td>\n      <td>645</td>\n      <td>(-29.151545708122246, -51.1386461804385)</td>\n      <td>Invite-email</td>\n      <td>514-9840782</td>\n      <td>57849.0</td>\n      <td>BR-MT</td>\n      <td>17528</td>\n      <td>{'tags': ['n19', 'n8']}</td>\n      <td>Mozilla/5.0 (Linux; Android 6.0.1; SGP771 Buil...</td>\n      <td>NaN</td>\n    </tr>\n    <tr>\n      <th>1</th>\n      <td>bc2c7502-bbad-0f8c-39c3-94e881967124</td>\n      <td>False</td>\n      <td>DGCQep2AE5QRkNCshIAlFQ==</td>\n      <td>SaamrHMo23l/3TwXOWgVzw==</td>\n      <td>370.0</td>\n      <td>97.062615</td>\n      <td>0.942655</td>\n      <td>92.002546</td>\n      <td>0.24</td>\n      <td>NaN</td>\n      <td>...</td>\n      <td>243</td>\n      <td>(-19.687710705798963, -47.94151536525154)</td>\n      <td>Radio-commercial</td>\n      <td>251-3659293</td>\n      <td>4902.0</td>\n      <td>BR-RS</td>\n      <td>40933</td>\n      <td>{'tags': ['n6', 'n7', 'nim']}</td>\n      <td>Mozilla/5.0 (Linux; Android 5.0.2; SAMSUNG SM-...</td>\n      <td>NaN</td>\n    </tr>\n    <tr>\n      <th>2</th>\n      <td>669630dd-2e6a-0396-84bf-455e5009c922</td>\n      <td>True</td>\n      <td>DGCQep2AE5QRkNCshIAlFQ==</td>\n      <td>Fv28Bz0YRTVAT5kl1bAV6g==</td>\n      <td>360.0</td>\n      <td>100.027073</td>\n      <td>0.351918</td>\n      <td>112.892453</td>\n      <td>0.29</td>\n      <td>7207.92</td>\n      <td>...</td>\n      <td>65</td>\n      <td>(-28.748023890412284, -51.867279334353995)</td>\n      <td>Waiting-list</td>\n      <td>230-6097993</td>\n      <td>163679.0</td>\n      <td>BR-RR</td>\n      <td>50985</td>\n      <td>{'tags': ['n0', 'n17', 'nim', 'da']}</td>\n      <td>Mozilla/5.0 (Linux; Android 6.0.1; SGP771 Buil...</td>\n      <td>NaN</td>\n    </tr>\n    <tr>\n      <th>3</th>\n      <td>d235609e-b6cb-0ccc-a329-d4f12e7ebdc1</td>\n      <td>False</td>\n      <td>1Rk8w4Ucd5yR3KcqZzLdow==</td>\n      <td>dCm9hFKfdRm7ej3jW+gyxw==</td>\n      <td>510.0</td>\n      <td>101.599485</td>\n      <td>0.987673</td>\n      <td>94.902491</td>\n      <td>0.32</td>\n      <td>NaN</td>\n      <td>...</td>\n      <td>815</td>\n      <td>(-17.520650158450454, -39.75801139933186)</td>\n      <td>Waiting-list</td>\n      <td>261-3543751</td>\n      <td>1086.0</td>\n      <td>BR-RN</td>\n      <td>37825</td>\n      <td>{'tags': ['n4']}</td>\n      <td>Mozilla/5.0 (Linux; Android 6.0; HTC One X10 B...</td>\n      <td>NaN</td>\n    </tr>\n    <tr>\n      <th>4</th>\n      <td>9e0eb880-e8f4-3faa-67d8-f5cdd2b3932b</td>\n      <td>False</td>\n      <td>8k8UDR4Yx0qasAjkGrUZLw==</td>\n      <td>+CxEO4w7jv3QPI/BQbyqAA==</td>\n      <td>500.0</td>\n      <td>98.474289</td>\n      <td>0.532539</td>\n      <td>118.126207</td>\n      <td>0.18</td>\n      <td>NaN</td>\n      <td>...</td>\n      <td>320</td>\n      <td>(-16.574259446978008, -39.90990074785962)</td>\n      <td>Invite-email</td>\n      <td>102-3660162</td>\n      <td>198618.0</td>\n      <td>BR-MT</td>\n      <td>52827</td>\n      <td>{'tags': ['pro+aty', 'n19', 'da', 'b19']}</td>\n      <td>Mozilla/5.0 (Linux; Android 7.0; Pixel C Build...</td>\n      <td>NaN</td>\n    </tr>\n  </tbody>\n</table>\n<p>5 rows × 43 columns</p>\n</div>"
     },
     "execution_count": 64,
     "metadata": {},
     "output_type": "execute_result"
    }
   ],
   "source": [
    "# Dimensões do df\n",
    "\n",
    "print(\"Dimensões do DataFrame: \")\n",
    "print(\"Linhas:\\t\\t{}\".format(df.shape[0]))\n",
    "print(\"Colunas:\\t{}\".format(df.shape[1]))\n",
    "df.head(5)"
   ],
   "metadata": {
    "collapsed": false,
    "pycharm": {
     "name": "#%%\n"
    }
   }
  },
  {
   "cell_type": "code",
   "execution_count": 65,
   "outputs": [
    {
     "data": {
      "text/plain": "            score_3       score_4       score_5       score_6     risk_rate  \\\ncount  44438.000000  45000.000000  45000.000000  45000.000000  44438.000000   \nmean     347.983258    100.006797      0.500037     99.925228      0.296717   \nstd      110.429165      3.178080      0.288326     10.016549      0.101933   \nmin        0.000000     86.191572      0.000035     60.663039      0.000000   \n25%      270.000000     97.867036      0.252150     93.198353      0.220000   \n50%      340.000000    100.018900      0.500753     99.974796      0.290000   \n75%      420.000000    102.141797      0.748816    106.640275      0.360000   \nmax      990.000000    113.978234      0.999973    142.192400      0.900000   \n\n       last_amount_borrowed  last_borrowed_in_months   credit_limit  \\\ncount          15044.000000             15044.000000   31200.000000   \nmean           13782.341991                41.763893   34381.951154   \nstd             8077.571933                10.252705   36586.982218   \nmin             1005.180000                36.000000       0.000000   \n25%             7519.502500                36.000000   10000.000000   \n50%            12023.465000                36.000000   25647.000000   \n75%            19220.270000                36.000000   47086.750000   \nmax            35059.600000                60.000000  448269.000000   \n\n             income      ok_since  ...    n_accounts      n_issues  \\\ncount  4.443800e+04  18455.000000  ...  44438.000000  33456.000000   \nmean   7.160739e+04     35.069737  ...     10.696701     11.068119   \nstd    5.185897e+04     21.663194  ...      4.592463      4.595501   \nmin    4.821180e+03      0.000000  ...      0.000000      0.000000   \n25%    4.501078e+04     17.000000  ...      7.000000      8.000000   \n50%    6.126676e+04     32.000000  ...     10.000000     10.000000   \n75%    8.601923e+04     50.000000  ...     13.000000     14.000000   \nmax    5.000028e+06    141.000000  ...     49.000000     49.000000   \n\n       application_time_in_funnel  \\\ncount                45000.000000   \nmean                   247.537000   \nstd                    146.118398   \nmin                      0.000000   \n25%                    120.000000   \n50%                    248.000000   \n75%                    375.000000   \nmax                    500.000000   \n\n       external_data_provider_credit_checks_last_2_year  \\\ncount                                           22372.0   \nmean                                                0.0   \nstd                                                 0.0   \nmin                                                 0.0   \n25%                                                 0.0   \n50%                                                 0.0   \n75%                                                 0.0   \nmax                                                 0.0   \n\n       external_data_provider_credit_checks_last_month  \\\ncount                                     45000.000000   \nmean                                          1.501067   \nstd                                           1.114941   \nmin                                           0.000000   \n25%                                           1.000000   \n50%                                           2.000000   \n75%                                           2.000000   \nmax                                           3.000000   \n\n       external_data_provider_credit_checks_last_year  \\\ncount                                    29876.000000   \nmean                                         0.503381   \nstd                                          0.499997   \nmin                                          0.000000   \n25%                                          0.000000   \n50%                                          1.000000   \n75%                                          1.000000   \nmax                                          1.000000   \n\n       external_data_provider_email_seen_before  \\\ncount                              42767.000000   \nmean                                  12.534781   \nstd                                  126.530487   \nmin                                 -999.000000   \n25%                                   11.000000   \n50%                                   27.000000   \n75%                                   43.000000   \nmax                                   59.000000   \n\n       external_data_provider_fraud_score  reported_income  shipping_zip_code  \ncount                        45000.000000         45000.00       45000.000000  \nmean                           500.399800              inf       33923.514844  \nstd                            287.968873              NaN       12692.406382  \nmin                              0.000000           403.00       12001.000000  \n25%                            252.000000         50948.25       22937.000000  \n50%                            503.000000        101779.00       33896.000000  \n75%                            747.000000        151337.25       44910.000000  \nmax                           1000.000000              inf       56000.000000  \n\n[8 rows x 22 columns]",
      "text/html": "<div>\n<style scoped>\n    .dataframe tbody tr th:only-of-type {\n        vertical-align: middle;\n    }\n\n    .dataframe tbody tr th {\n        vertical-align: top;\n    }\n\n    .dataframe thead th {\n        text-align: right;\n    }\n</style>\n<table border=\"1\" class=\"dataframe\">\n  <thead>\n    <tr style=\"text-align: right;\">\n      <th></th>\n      <th>score_3</th>\n      <th>score_4</th>\n      <th>score_5</th>\n      <th>score_6</th>\n      <th>risk_rate</th>\n      <th>last_amount_borrowed</th>\n      <th>last_borrowed_in_months</th>\n      <th>credit_limit</th>\n      <th>income</th>\n      <th>ok_since</th>\n      <th>...</th>\n      <th>n_accounts</th>\n      <th>n_issues</th>\n      <th>application_time_in_funnel</th>\n      <th>external_data_provider_credit_checks_last_2_year</th>\n      <th>external_data_provider_credit_checks_last_month</th>\n      <th>external_data_provider_credit_checks_last_year</th>\n      <th>external_data_provider_email_seen_before</th>\n      <th>external_data_provider_fraud_score</th>\n      <th>reported_income</th>\n      <th>shipping_zip_code</th>\n    </tr>\n  </thead>\n  <tbody>\n    <tr>\n      <th>count</th>\n      <td>44438.000000</td>\n      <td>45000.000000</td>\n      <td>45000.000000</td>\n      <td>45000.000000</td>\n      <td>44438.000000</td>\n      <td>15044.000000</td>\n      <td>15044.000000</td>\n      <td>31200.000000</td>\n      <td>4.443800e+04</td>\n      <td>18455.000000</td>\n      <td>...</td>\n      <td>44438.000000</td>\n      <td>33456.000000</td>\n      <td>45000.000000</td>\n      <td>22372.0</td>\n      <td>45000.000000</td>\n      <td>29876.000000</td>\n      <td>42767.000000</td>\n      <td>45000.000000</td>\n      <td>45000.00</td>\n      <td>45000.000000</td>\n    </tr>\n    <tr>\n      <th>mean</th>\n      <td>347.983258</td>\n      <td>100.006797</td>\n      <td>0.500037</td>\n      <td>99.925228</td>\n      <td>0.296717</td>\n      <td>13782.341991</td>\n      <td>41.763893</td>\n      <td>34381.951154</td>\n      <td>7.160739e+04</td>\n      <td>35.069737</td>\n      <td>...</td>\n      <td>10.696701</td>\n      <td>11.068119</td>\n      <td>247.537000</td>\n      <td>0.0</td>\n      <td>1.501067</td>\n      <td>0.503381</td>\n      <td>12.534781</td>\n      <td>500.399800</td>\n      <td>inf</td>\n      <td>33923.514844</td>\n    </tr>\n    <tr>\n      <th>std</th>\n      <td>110.429165</td>\n      <td>3.178080</td>\n      <td>0.288326</td>\n      <td>10.016549</td>\n      <td>0.101933</td>\n      <td>8077.571933</td>\n      <td>10.252705</td>\n      <td>36586.982218</td>\n      <td>5.185897e+04</td>\n      <td>21.663194</td>\n      <td>...</td>\n      <td>4.592463</td>\n      <td>4.595501</td>\n      <td>146.118398</td>\n      <td>0.0</td>\n      <td>1.114941</td>\n      <td>0.499997</td>\n      <td>126.530487</td>\n      <td>287.968873</td>\n      <td>NaN</td>\n      <td>12692.406382</td>\n    </tr>\n    <tr>\n      <th>min</th>\n      <td>0.000000</td>\n      <td>86.191572</td>\n      <td>0.000035</td>\n      <td>60.663039</td>\n      <td>0.000000</td>\n      <td>1005.180000</td>\n      <td>36.000000</td>\n      <td>0.000000</td>\n      <td>4.821180e+03</td>\n      <td>0.000000</td>\n      <td>...</td>\n      <td>0.000000</td>\n      <td>0.000000</td>\n      <td>0.000000</td>\n      <td>0.0</td>\n      <td>0.000000</td>\n      <td>0.000000</td>\n      <td>-999.000000</td>\n      <td>0.000000</td>\n      <td>403.00</td>\n      <td>12001.000000</td>\n    </tr>\n    <tr>\n      <th>25%</th>\n      <td>270.000000</td>\n      <td>97.867036</td>\n      <td>0.252150</td>\n      <td>93.198353</td>\n      <td>0.220000</td>\n      <td>7519.502500</td>\n      <td>36.000000</td>\n      <td>10000.000000</td>\n      <td>4.501078e+04</td>\n      <td>17.000000</td>\n      <td>...</td>\n      <td>7.000000</td>\n      <td>8.000000</td>\n      <td>120.000000</td>\n      <td>0.0</td>\n      <td>1.000000</td>\n      <td>0.000000</td>\n      <td>11.000000</td>\n      <td>252.000000</td>\n      <td>50948.25</td>\n      <td>22937.000000</td>\n    </tr>\n    <tr>\n      <th>50%</th>\n      <td>340.000000</td>\n      <td>100.018900</td>\n      <td>0.500753</td>\n      <td>99.974796</td>\n      <td>0.290000</td>\n      <td>12023.465000</td>\n      <td>36.000000</td>\n      <td>25647.000000</td>\n      <td>6.126676e+04</td>\n      <td>32.000000</td>\n      <td>...</td>\n      <td>10.000000</td>\n      <td>10.000000</td>\n      <td>248.000000</td>\n      <td>0.0</td>\n      <td>2.000000</td>\n      <td>1.000000</td>\n      <td>27.000000</td>\n      <td>503.000000</td>\n      <td>101779.00</td>\n      <td>33896.000000</td>\n    </tr>\n    <tr>\n      <th>75%</th>\n      <td>420.000000</td>\n      <td>102.141797</td>\n      <td>0.748816</td>\n      <td>106.640275</td>\n      <td>0.360000</td>\n      <td>19220.270000</td>\n      <td>36.000000</td>\n      <td>47086.750000</td>\n      <td>8.601923e+04</td>\n      <td>50.000000</td>\n      <td>...</td>\n      <td>13.000000</td>\n      <td>14.000000</td>\n      <td>375.000000</td>\n      <td>0.0</td>\n      <td>2.000000</td>\n      <td>1.000000</td>\n      <td>43.000000</td>\n      <td>747.000000</td>\n      <td>151337.25</td>\n      <td>44910.000000</td>\n    </tr>\n    <tr>\n      <th>max</th>\n      <td>990.000000</td>\n      <td>113.978234</td>\n      <td>0.999973</td>\n      <td>142.192400</td>\n      <td>0.900000</td>\n      <td>35059.600000</td>\n      <td>60.000000</td>\n      <td>448269.000000</td>\n      <td>5.000028e+06</td>\n      <td>141.000000</td>\n      <td>...</td>\n      <td>49.000000</td>\n      <td>49.000000</td>\n      <td>500.000000</td>\n      <td>0.0</td>\n      <td>3.000000</td>\n      <td>1.000000</td>\n      <td>59.000000</td>\n      <td>1000.000000</td>\n      <td>inf</td>\n      <td>56000.000000</td>\n    </tr>\n  </tbody>\n</table>\n<p>8 rows × 22 columns</p>\n</div>"
     },
     "execution_count": 65,
     "metadata": {},
     "output_type": "execute_result"
    }
   ],
   "source": [
    "# Ver resumo estatístico dos dados numéricos\n",
    "df.describe()"
   ],
   "metadata": {
    "collapsed": false,
    "pycharm": {
     "name": "#%%\n"
    }
   }
  },
  {
   "cell_type": "code",
   "execution_count": 66,
   "outputs": [
    {
     "name": "stdout",
     "output_type": "stream",
     "text": [
      "\n",
      "Tipos das Variáveis: \n",
      "ids                                                  object\n",
      "target_default                                       object\n",
      "score_1                                              object\n",
      "score_2                                              object\n",
      "score_3                                             float64\n",
      "score_4                                             float64\n",
      "score_5                                             float64\n",
      "score_6                                             float64\n",
      "risk_rate                                           float64\n",
      "last_amount_borrowed                                float64\n",
      "last_borrowed_in_months                             float64\n",
      "credit_limit                                        float64\n",
      "reason                                               object\n",
      "income                                              float64\n",
      "facebook_profile                                     object\n",
      "state                                                object\n",
      "zip                                                  object\n",
      "channel                                              object\n",
      "job_name                                             object\n",
      "real_state                                           object\n",
      "ok_since                                            float64\n",
      "n_bankruptcies                                      float64\n",
      "n_defaulted_loans                                   float64\n",
      "n_accounts                                          float64\n",
      "n_issues                                            float64\n",
      "application_time_applied                             object\n",
      "application_time_in_funnel                            int64\n",
      "email                                                object\n",
      "external_data_provider_credit_checks_last_2_year    float64\n",
      "external_data_provider_credit_checks_last_month       int64\n",
      "external_data_provider_credit_checks_last_year      float64\n",
      "external_data_provider_email_seen_before            float64\n",
      "external_data_provider_first_name                    object\n",
      "external_data_provider_fraud_score                    int64\n",
      "lat_lon                                              object\n",
      "marketing_channel                                    object\n",
      "profile_phone_number                                 object\n",
      "reported_income                                     float64\n",
      "shipping_state                                       object\n",
      "shipping_zip_code                                     int64\n",
      "profile_tags                                         object\n",
      "user_agent                                           object\n",
      "target_fraud                                         object\n",
      "dtype: object\n"
     ]
    }
   ],
   "source": [
    "# Tipos das variáveis\n",
    "\n",
    "print(\"\\nTipos das Variáveis: \")\n",
    "print(df.dtypes)"
   ],
   "metadata": {
    "collapsed": false,
    "pycharm": {
     "name": "#%%\n"
    }
   }
  },
  {
   "cell_type": "code",
   "execution_count": 67,
   "outputs": [
    {
     "name": "stdout",
     "output_type": "stream",
     "text": [
      "\n",
      "Valores Ausentes: \n",
      "target_fraud                                        0.966178\n",
      "last_amount_borrowed                                0.665689\n",
      "last_borrowed_in_months                             0.665689\n",
      "ok_since                                            0.589889\n",
      "external_data_provider_credit_checks_last_2_year    0.502844\n",
      "external_data_provider_credit_checks_last_year      0.336089\n",
      "credit_limit                                        0.306667\n",
      "n_issues                                            0.256533\n",
      "facebook_profile                                    0.099067\n",
      "marketing_channel                                   0.079511\n",
      "job_name                                            0.074133\n",
      "target_default                                      0.072422\n",
      "external_data_provider_email_seen_before            0.049622\n",
      "lat_lon                                             0.030289\n",
      "user_agent                                          0.016044\n",
      "n_bankruptcies                                      0.015489\n",
      "n_defaulted_loans                                   0.012756\n",
      "reason                                              0.012578\n",
      "zip                                                 0.012489\n",
      "n_accounts                                          0.012489\n",
      "channel                                             0.012489\n",
      "score_1                                             0.012489\n",
      "score_3                                             0.012489\n",
      "risk_rate                                           0.012489\n",
      "income                                              0.012489\n",
      "real_state                                          0.012489\n",
      "state                                               0.012489\n",
      "score_2                                             0.012489\n",
      "profile_tags                                        0.000000\n",
      "shipping_zip_code                                   0.000000\n",
      "shipping_state                                      0.000000\n",
      "reported_income                                     0.000000\n",
      "profile_phone_number                                0.000000\n",
      "external_data_provider_credit_checks_last_month     0.000000\n",
      "external_data_provider_fraud_score                  0.000000\n",
      "external_data_provider_first_name                   0.000000\n",
      "score_4                                             0.000000\n",
      "score_5                                             0.000000\n",
      "score_6                                             0.000000\n",
      "email                                               0.000000\n",
      "application_time_in_funnel                          0.000000\n",
      "application_time_applied                            0.000000\n",
      "ids                                                 0.000000\n",
      "dtype: float64\n"
     ]
    }
   ],
   "source": [
    "# Valores Ausentes\n",
    "print(\"\\nValores Ausentes: \")\n",
    "print((df.isnull().sum() / df.shape[0]).sort_values(ascending=False))"
   ],
   "metadata": {
    "collapsed": false,
    "pycharm": {
     "name": "#%%\n"
    }
   }
  },
  {
   "cell_type": "code",
   "execution_count": 68,
   "outputs": [
    {
     "name": "stdout",
     "output_type": "stream",
     "text": [
      "\n",
      "Valores Únicos: \n",
      "external_data_provider_credit_checks_last_2_year        1\n",
      "channel                                                 1\n",
      "target_fraud                                            2\n",
      "target_default                                          2\n",
      "external_data_provider_credit_checks_last_year          2\n",
      "facebook_profile                                        2\n",
      "last_borrowed_in_months                                 2\n",
      "external_data_provider_credit_checks_last_month         4\n",
      "n_defaulted_loans                                       5\n",
      "real_state                                              5\n",
      "email                                                   6\n",
      "n_bankruptcies                                          6\n",
      "score_1                                                 7\n",
      "marketing_channel                                       9\n",
      "shipping_state                                         25\n",
      "score_2                                                35\n",
      "n_issues                                               44\n",
      "n_accounts                                             44\n",
      "state                                                  50\n",
      "external_data_provider_email_seen_before               62\n",
      "risk_rate                                              82\n",
      "score_3                                                88\n",
      "ok_since                                              100\n",
      "user_agent                                            297\n",
      "application_time_in_funnel                            501\n",
      "zip                                                   823\n",
      "external_data_provider_fraud_score                   1001\n",
      "last_amount_borrowed                                14325\n",
      "reason                                              14874\n",
      "credit_limit                                        20928\n",
      "lat_lon                                             22412\n",
      "profile_tags                                        26131\n",
      "shipping_zip_code                                   28263\n",
      "job_name                                            32265\n",
      "external_data_provider_first_name                   32886\n",
      "application_time_applied                            35543\n",
      "reported_income                                     40025\n",
      "income                                              41211\n",
      "score_4                                             45000\n",
      "score_5                                             45000\n",
      "score_6                                             45000\n",
      "profile_phone_number                                45000\n",
      "ids                                                 45000\n",
      "dtype: int64\n"
     ]
    }
   ],
   "source": [
    "# Valores Únicos\n",
    "\n",
    "print(\"\\nValores Únicos: \")\n",
    "print(df.nunique().sort_values())"
   ],
   "metadata": {
    "collapsed": false,
    "pycharm": {
     "name": "#%%\n"
    }
   }
  },
  {
   "cell_type": "code",
   "execution_count": 69,
   "outputs": [
    {
     "data": {
      "text/plain": "<Figure size 432x288 with 1 Axes>",
      "image/png": "[encoded data removed]"
     },
     "metadata": {
      "needs_background": "light"
     },
     "output_type": "display_data"
    },
    {
     "name": "stdout",
     "output_type": "stream",
     "text": [
      "Proporção entre Inadimplentes no Dataset:\n",
      "False    77.955556\n",
      "True     14.802222\n",
      "Name: target_default, dtype: float64\n"
     ]
    }
   ],
   "source": [
    "# Relação entre Inadimplentes no Dataset\n",
    "fig, ax = plt.subplots()\n",
    "sns.countplot('target_default', data=df, ax=ax)\n",
    "ax.set_title(\"Inadimplentes\")\n",
    "ax.set_xlabel(\"Valor\")\n",
    "ax.set_ylabel(\"Contagem\")\n",
    "plt.show()\n",
    "\n",
    "print(\"Proporção entre Inadimplentes no Dataset:\")\n",
    "print((df['target_default'].value_counts() / df.shape[0] )*100)"
   ],
   "metadata": {
    "collapsed": false,
    "pycharm": {
     "name": "#%%\n"
    }
   }
  },
  {
   "cell_type": "code",
   "execution_count": 70,
   "outputs": [],
   "source": [
    "# Backup do Dataset\n",
    "\n",
    "df_clean = df.copy()"
   ],
   "metadata": {
    "collapsed": false,
    "pycharm": {
     "name": "#%%\n"
    }
   }
  },
  {
   "cell_type": "code",
   "execution_count": 71,
   "outputs": [],
   "source": [
    "# excluindo as colunas\n",
    "\n",
    "df_clean.drop(labels=['ids', 'external_data_provider_credit_checks_last_year', 'channel', 'profile_phone_number'], axis=1, inplace=True)"
   ],
   "metadata": {
    "collapsed": false,
    "pycharm": {
     "name": "#%%\n"
    }
   }
  },
  {
   "cell_type": "code",
   "execution_count": 72,
   "outputs": [
    {
     "data": {
      "text/plain": "0         57849.0\n1          4902.0\n2        163679.0\n3          1086.0\n4        198618.0\n           ...   \n44995     73417.0\n44996     26246.0\n44997    101252.0\n44998    129844.0\n44999    112766.0\nName: reported_income, Length: 45000, dtype: float64"
     },
     "execution_count": 72,
     "metadata": {},
     "output_type": "execute_result"
    }
   ],
   "source": [
    "# Substituindo\n",
    "df_clean['reported_income'] = df_clean['reported_income'].replace(np.inf, np.nan)\n",
    "\n",
    "#Resultado\n",
    "df_clean['reported_income']"
   ],
   "metadata": {
    "collapsed": false,
    "pycharm": {
     "name": "#%%\n"
    }
   }
  },
  {
   "cell_type": "code",
   "execution_count": 73,
   "outputs": [],
   "source": [
    "# Substituindo o valor -999 em 'external_data_provider_email_seen_before' por 'Nan'\n",
    "df_clean.loc[df_clean['external_data_provider_email_seen_before'] == -999.0,\n",
    "             'external_data_provider_email_seen_before'] = np.nan\n"
   ],
   "metadata": {
    "collapsed": false,
    "pycharm": {
     "name": "#%%\n"
    }
   }
  },
  {
   "cell_type": "code",
   "execution_count": 74,
   "outputs": [],
   "source": [
    "# Eliminando as colunas sem informação aparente ou que demandam mais pesquisa\n",
    "\n",
    "# Variável temporária para armazenar o label das colunas a serem eliminadas\n",
    "drop_var = ['reason', 'zip', 'job_name', 'external_data_provider_first_name',\n",
    "            'lat_lon', 'shipping_zip_code', 'user_agent', 'profile_tags',\n",
    "            'application_time_applied', 'email', 'marketing_channel',\n",
    "            'shipping_state', 'target_fraud']\n",
    "\n",
    "# Comando para eliminar as colunas\n",
    "df_clean.drop(labels=drop_var, axis=1, inplace=True)\n",
    "\n",
    "# Eliminar as linhas com valores nulos (NaN) para a coluna target_default\n",
    "df_clean.dropna(subset=['target_default'], inplace=True)"
   ],
   "metadata": {
    "collapsed": false,
    "pycharm": {
     "name": "#%%\n"
    }
   }
  },
  {
   "cell_type": "code",
   "execution_count": 75,
   "outputs": [],
   "source": [
    "df_clean.dropna(inplace=True)"
   ],
   "metadata": {
    "collapsed": false,
    "pycharm": {
     "name": "#%%\n"
    }
   }
  },
  {
   "cell_type": "code",
   "execution_count": 76,
   "outputs": [
    {
     "data": {
      "text/plain": "target_default                                      0\nscore_1                                             0\nscore_2                                             0\nscore_3                                             0\nscore_4                                             0\nscore_5                                             0\nscore_6                                             0\nrisk_rate                                           0\nlast_amount_borrowed                                0\nlast_borrowed_in_months                             0\ncredit_limit                                        0\nincome                                              0\nfacebook_profile                                    0\nstate                                               0\nreal_state                                          0\nok_since                                            0\nn_bankruptcies                                      0\nn_defaulted_loans                                   0\nn_accounts                                          0\nn_issues                                            0\napplication_time_in_funnel                          0\nexternal_data_provider_credit_checks_last_2_year    0\nexternal_data_provider_credit_checks_last_month     0\nexternal_data_provider_email_seen_before            0\nexternal_data_provider_fraud_score                  0\nreported_income                                     0\ndtype: int64"
     },
     "execution_count": 76,
     "metadata": {},
     "output_type": "execute_result"
    }
   ],
   "source": [
    "df_clean.isnull().sum()"
   ],
   "metadata": {
    "collapsed": false,
    "pycharm": {
     "name": "#%%\n"
    }
   }
  },
  {
   "cell_type": "code",
   "execution_count": 77,
   "outputs": [],
   "source": [
    "from sklearn.preprocessing import StandardScaler\n",
    "\n",
    "#Backup do DataSet Limpo\n",
    "scaled_df = df_clean.copy()"
   ],
   "metadata": {
    "collapsed": false,
    "pycharm": {
     "name": "#%%\n"
    }
   }
  },
  {
   "cell_type": "code",
   "execution_count": 78,
   "outputs": [],
   "source": [
    "# normalizando as colunas numéricas\n",
    "num_cols = scaled_df.drop('target_default', axis=1).select_dtypes(exclude='object').columns\n",
    "\n",
    "scaled_df[num_cols] = StandardScaler().fit_transform(scaled_df[num_cols].values)"
   ],
   "metadata": {
    "collapsed": false,
    "pycharm": {
     "name": "#%%\n"
    }
   }
  },
  {
   "cell_type": "code",
   "execution_count": 79,
   "outputs": [],
   "source": [
    "# importando a biblioteca necessária para rotular nossas ocorrencias\n",
    "from sklearn.preprocessing import LabelEncoder"
   ],
   "metadata": {
    "collapsed": false,
    "pycharm": {
     "name": "#%%\n"
    }
   }
  },
  {
   "cell_type": "code",
   "execution_count": 80,
   "outputs": [],
   "source": [
    "encoded_df = scaled_df.copy()"
   ],
   "metadata": {
    "collapsed": false,
    "pycharm": {
     "name": "#%%\n"
    }
   }
  },
  {
   "cell_type": "code",
   "execution_count": 81,
   "outputs": [],
   "source": [
    "# extrair as colunas categóricas e colocando numa variável\n",
    "cat_cols = encoded_df.select_dtypes('object').columns"
   ],
   "metadata": {
    "collapsed": false,
    "pycharm": {
     "name": "#%%\n"
    }
   }
  },
  {
   "cell_type": "code",
   "execution_count": 82,
   "outputs": [],
   "source": [
    "# codificando cada coluna categórica\n",
    "for col in cat_cols:\n",
    "  encoded_df[col+'_encoded'] = LabelEncoder().fit_transform(encoded_df[col])\n",
    "  encoded_df.drop(col, axis=1, inplace=True)"
   ],
   "metadata": {
    "collapsed": false,
    "pycharm": {
     "name": "#%%\n"
    }
   }
  },
  {
   "cell_type": "code",
   "execution_count": 83,
   "outputs": [
    {
     "ename": "KeyError",
     "evalue": "\"['target_default'] not found in axis\"",
     "output_type": "error",
     "traceback": [
      "\u001B[1;31m---------------------------------------------------------------------------\u001B[0m",
      "\u001B[1;31mKeyError\u001B[0m                                  Traceback (most recent call last)",
      "Input \u001B[1;32mIn [83]\u001B[0m, in \u001B[0;36m<cell line: 5>\u001B[1;34m()\u001B[0m\n\u001B[0;32m      1\u001B[0m \u001B[38;5;66;03m# separando as variáveis independentes da variável alvo\u001B[39;00m\n\u001B[0;32m      2\u001B[0m \u001B[38;5;66;03m# X todas as colunas sem a coluna 'target_default\u001B[39;00m\n\u001B[0;32m      3\u001B[0m \u001B[38;5;66;03m# y apenas a coluna 'target_default\u001B[39;00m\n\u001B[1;32m----> 5\u001B[0m X \u001B[38;5;241m=\u001B[39m \u001B[43mencoded_df\u001B[49m\u001B[38;5;241;43m.\u001B[39;49m\u001B[43mdrop\u001B[49m\u001B[43m(\u001B[49m\u001B[38;5;124;43m'\u001B[39;49m\u001B[38;5;124;43mtarget_default\u001B[39;49m\u001B[38;5;124;43m'\u001B[39;49m\u001B[43m,\u001B[49m\u001B[43m \u001B[49m\u001B[43maxis\u001B[49m\u001B[38;5;241;43m=\u001B[39;49m\u001B[38;5;241;43m1\u001B[39;49m\u001B[43m)\u001B[49m\u001B[38;5;241m.\u001B[39mselect_dtypes(exclude\u001B[38;5;241m=\u001B[39m\u001B[38;5;124m'\u001B[39m\u001B[38;5;124mobject\u001B[39m\u001B[38;5;124m'\u001B[39m)\n\u001B[0;32m      6\u001B[0m y \u001B[38;5;241m=\u001B[39m encoded_df[\u001B[38;5;124m'\u001B[39m\u001B[38;5;124mtarget_default\u001B[39m\u001B[38;5;124m'\u001B[39m]\n",
      "File \u001B[1;32m~\\AppData\\Local\\Programs\\Python\\Python310\\lib\\site-packages\\pandas\\util\\_decorators.py:311\u001B[0m, in \u001B[0;36mdeprecate_nonkeyword_arguments.<locals>.decorate.<locals>.wrapper\u001B[1;34m(*args, **kwargs)\u001B[0m\n\u001B[0;32m    305\u001B[0m \u001B[38;5;28;01mif\u001B[39;00m \u001B[38;5;28mlen\u001B[39m(args) \u001B[38;5;241m>\u001B[39m num_allow_args:\n\u001B[0;32m    306\u001B[0m     warnings\u001B[38;5;241m.\u001B[39mwarn(\n\u001B[0;32m    307\u001B[0m         msg\u001B[38;5;241m.\u001B[39mformat(arguments\u001B[38;5;241m=\u001B[39marguments),\n\u001B[0;32m    308\u001B[0m         \u001B[38;5;167;01mFutureWarning\u001B[39;00m,\n\u001B[0;32m    309\u001B[0m         stacklevel\u001B[38;5;241m=\u001B[39mstacklevel,\n\u001B[0;32m    310\u001B[0m     )\n\u001B[1;32m--> 311\u001B[0m \u001B[38;5;28;01mreturn\u001B[39;00m func(\u001B[38;5;241m*\u001B[39margs, \u001B[38;5;241m*\u001B[39m\u001B[38;5;241m*\u001B[39mkwargs)\n",
      "File \u001B[1;32m~\\AppData\\Local\\Programs\\Python\\Python310\\lib\\site-packages\\pandas\\core\\frame.py:4954\u001B[0m, in \u001B[0;36mDataFrame.drop\u001B[1;34m(self, labels, axis, index, columns, level, inplace, errors)\u001B[0m\n\u001B[0;32m   4806\u001B[0m \u001B[38;5;129m@deprecate_nonkeyword_arguments\u001B[39m(version\u001B[38;5;241m=\u001B[39m\u001B[38;5;28;01mNone\u001B[39;00m, allowed_args\u001B[38;5;241m=\u001B[39m[\u001B[38;5;124m\"\u001B[39m\u001B[38;5;124mself\u001B[39m\u001B[38;5;124m\"\u001B[39m, \u001B[38;5;124m\"\u001B[39m\u001B[38;5;124mlabels\u001B[39m\u001B[38;5;124m\"\u001B[39m])\n\u001B[0;32m   4807\u001B[0m \u001B[38;5;28;01mdef\u001B[39;00m \u001B[38;5;21mdrop\u001B[39m(\n\u001B[0;32m   4808\u001B[0m     \u001B[38;5;28mself\u001B[39m,\n\u001B[1;32m   (...)\u001B[0m\n\u001B[0;32m   4815\u001B[0m     errors: \u001B[38;5;28mstr\u001B[39m \u001B[38;5;241m=\u001B[39m \u001B[38;5;124m\"\u001B[39m\u001B[38;5;124mraise\u001B[39m\u001B[38;5;124m\"\u001B[39m,\n\u001B[0;32m   4816\u001B[0m ):\n\u001B[0;32m   4817\u001B[0m     \u001B[38;5;124;03m\"\"\"\u001B[39;00m\n\u001B[0;32m   4818\u001B[0m \u001B[38;5;124;03m    Drop specified labels from rows or columns.\u001B[39;00m\n\u001B[0;32m   4819\u001B[0m \n\u001B[1;32m   (...)\u001B[0m\n\u001B[0;32m   4952\u001B[0m \u001B[38;5;124;03m            weight  1.0     0.8\u001B[39;00m\n\u001B[0;32m   4953\u001B[0m \u001B[38;5;124;03m    \"\"\"\u001B[39;00m\n\u001B[1;32m-> 4954\u001B[0m     \u001B[38;5;28;01mreturn\u001B[39;00m \u001B[38;5;28;43msuper\u001B[39;49m\u001B[43m(\u001B[49m\u001B[43m)\u001B[49m\u001B[38;5;241;43m.\u001B[39;49m\u001B[43mdrop\u001B[49m\u001B[43m(\u001B[49m\n\u001B[0;32m   4955\u001B[0m \u001B[43m        \u001B[49m\u001B[43mlabels\u001B[49m\u001B[38;5;241;43m=\u001B[39;49m\u001B[43mlabels\u001B[49m\u001B[43m,\u001B[49m\n\u001B[0;32m   4956\u001B[0m \u001B[43m        \u001B[49m\u001B[43maxis\u001B[49m\u001B[38;5;241;43m=\u001B[39;49m\u001B[43maxis\u001B[49m\u001B[43m,\u001B[49m\n\u001B[0;32m   4957\u001B[0m \u001B[43m        \u001B[49m\u001B[43mindex\u001B[49m\u001B[38;5;241;43m=\u001B[39;49m\u001B[43mindex\u001B[49m\u001B[43m,\u001B[49m\n\u001B[0;32m   4958\u001B[0m \u001B[43m        \u001B[49m\u001B[43mcolumns\u001B[49m\u001B[38;5;241;43m=\u001B[39;49m\u001B[43mcolumns\u001B[49m\u001B[43m,\u001B[49m\n\u001B[0;32m   4959\u001B[0m \u001B[43m        \u001B[49m\u001B[43mlevel\u001B[49m\u001B[38;5;241;43m=\u001B[39;49m\u001B[43mlevel\u001B[49m\u001B[43m,\u001B[49m\n\u001B[0;32m   4960\u001B[0m \u001B[43m        \u001B[49m\u001B[43minplace\u001B[49m\u001B[38;5;241;43m=\u001B[39;49m\u001B[43minplace\u001B[49m\u001B[43m,\u001B[49m\n\u001B[0;32m   4961\u001B[0m \u001B[43m        \u001B[49m\u001B[43merrors\u001B[49m\u001B[38;5;241;43m=\u001B[39;49m\u001B[43merrors\u001B[49m\u001B[43m,\u001B[49m\n\u001B[0;32m   4962\u001B[0m \u001B[43m    \u001B[49m\u001B[43m)\u001B[49m\n",
      "File \u001B[1;32m~\\AppData\\Local\\Programs\\Python\\Python310\\lib\\site-packages\\pandas\\core\\generic.py:4267\u001B[0m, in \u001B[0;36mNDFrame.drop\u001B[1;34m(self, labels, axis, index, columns, level, inplace, errors)\u001B[0m\n\u001B[0;32m   4265\u001B[0m \u001B[38;5;28;01mfor\u001B[39;00m axis, labels \u001B[38;5;129;01min\u001B[39;00m axes\u001B[38;5;241m.\u001B[39mitems():\n\u001B[0;32m   4266\u001B[0m     \u001B[38;5;28;01mif\u001B[39;00m labels \u001B[38;5;129;01mis\u001B[39;00m \u001B[38;5;129;01mnot\u001B[39;00m \u001B[38;5;28;01mNone\u001B[39;00m:\n\u001B[1;32m-> 4267\u001B[0m         obj \u001B[38;5;241m=\u001B[39m \u001B[43mobj\u001B[49m\u001B[38;5;241;43m.\u001B[39;49m\u001B[43m_drop_axis\u001B[49m\u001B[43m(\u001B[49m\u001B[43mlabels\u001B[49m\u001B[43m,\u001B[49m\u001B[43m \u001B[49m\u001B[43maxis\u001B[49m\u001B[43m,\u001B[49m\u001B[43m \u001B[49m\u001B[43mlevel\u001B[49m\u001B[38;5;241;43m=\u001B[39;49m\u001B[43mlevel\u001B[49m\u001B[43m,\u001B[49m\u001B[43m \u001B[49m\u001B[43merrors\u001B[49m\u001B[38;5;241;43m=\u001B[39;49m\u001B[43merrors\u001B[49m\u001B[43m)\u001B[49m\n\u001B[0;32m   4269\u001B[0m \u001B[38;5;28;01mif\u001B[39;00m inplace:\n\u001B[0;32m   4270\u001B[0m     \u001B[38;5;28mself\u001B[39m\u001B[38;5;241m.\u001B[39m_update_inplace(obj)\n",
      "File \u001B[1;32m~\\AppData\\Local\\Programs\\Python\\Python310\\lib\\site-packages\\pandas\\core\\generic.py:4311\u001B[0m, in \u001B[0;36mNDFrame._drop_axis\u001B[1;34m(self, labels, axis, level, errors, consolidate, only_slice)\u001B[0m\n\u001B[0;32m   4309\u001B[0m         new_axis \u001B[38;5;241m=\u001B[39m axis\u001B[38;5;241m.\u001B[39mdrop(labels, level\u001B[38;5;241m=\u001B[39mlevel, errors\u001B[38;5;241m=\u001B[39merrors)\n\u001B[0;32m   4310\u001B[0m     \u001B[38;5;28;01melse\u001B[39;00m:\n\u001B[1;32m-> 4311\u001B[0m         new_axis \u001B[38;5;241m=\u001B[39m \u001B[43maxis\u001B[49m\u001B[38;5;241;43m.\u001B[39;49m\u001B[43mdrop\u001B[49m\u001B[43m(\u001B[49m\u001B[43mlabels\u001B[49m\u001B[43m,\u001B[49m\u001B[43m \u001B[49m\u001B[43merrors\u001B[49m\u001B[38;5;241;43m=\u001B[39;49m\u001B[43merrors\u001B[49m\u001B[43m)\u001B[49m\n\u001B[0;32m   4312\u001B[0m     indexer \u001B[38;5;241m=\u001B[39m axis\u001B[38;5;241m.\u001B[39mget_indexer(new_axis)\n\u001B[0;32m   4314\u001B[0m \u001B[38;5;66;03m# Case for non-unique axis\u001B[39;00m\n\u001B[0;32m   4315\u001B[0m \u001B[38;5;28;01melse\u001B[39;00m:\n",
      "File \u001B[1;32m~\\AppData\\Local\\Programs\\Python\\Python310\\lib\\site-packages\\pandas\\core\\indexes\\base.py:6644\u001B[0m, in \u001B[0;36mIndex.drop\u001B[1;34m(self, labels, errors)\u001B[0m\n\u001B[0;32m   6642\u001B[0m \u001B[38;5;28;01mif\u001B[39;00m mask\u001B[38;5;241m.\u001B[39many():\n\u001B[0;32m   6643\u001B[0m     \u001B[38;5;28;01mif\u001B[39;00m errors \u001B[38;5;241m!=\u001B[39m \u001B[38;5;124m\"\u001B[39m\u001B[38;5;124mignore\u001B[39m\u001B[38;5;124m\"\u001B[39m:\n\u001B[1;32m-> 6644\u001B[0m         \u001B[38;5;28;01mraise\u001B[39;00m \u001B[38;5;167;01mKeyError\u001B[39;00m(\u001B[38;5;124mf\u001B[39m\u001B[38;5;124m\"\u001B[39m\u001B[38;5;132;01m{\u001B[39;00m\u001B[38;5;28mlist\u001B[39m(labels[mask])\u001B[38;5;132;01m}\u001B[39;00m\u001B[38;5;124m not found in axis\u001B[39m\u001B[38;5;124m\"\u001B[39m)\n\u001B[0;32m   6645\u001B[0m     indexer \u001B[38;5;241m=\u001B[39m indexer[\u001B[38;5;241m~\u001B[39mmask]\n\u001B[0;32m   6646\u001B[0m \u001B[38;5;28;01mreturn\u001B[39;00m \u001B[38;5;28mself\u001B[39m\u001B[38;5;241m.\u001B[39mdelete(indexer)\n",
      "\u001B[1;31mKeyError\u001B[0m: \"['target_default'] not found in axis\""
     ]
    }
   ],
   "source": [
    "# separando as variáveis independentes da variável alvo\n",
    "# X todas as colunas sem a coluna 'target_default\n",
    "# y apenas a coluna 'target_default\n",
    "\n",
    "X = encoded_df.drop('target_default', axis=1).select_dtypes(exclude='object')\n",
    "y = encoded_df['target_default']"
   ],
   "metadata": {
    "collapsed": false,
    "pycharm": {
     "name": "#%%\n"
    }
   }
  },
  {
   "cell_type": "code",
   "execution_count": null,
   "outputs": [],
   "source": [
    "# importando o modelo de seleção - KFold\n",
    "from sklearn.model_selection import KFold\n",
    "\n",
    "# importando nossas metricas\n",
    "from sklearn.metrics import accuracy_score\n",
    "\n",
    "# importando nosso modelo de machine learning - XGBoost\n",
    "from xgboost import XGBClassifier\n",
    "\n",
    "# importando nossa biblioteca de funções matemáticas\n",
    "import numpy as np"
   ],
   "metadata": {
    "collapsed": false,
    "pycharm": {
     "name": "#%%\n"
    }
   }
  },
  {
   "cell_type": "code",
   "execution_count": null,
   "outputs": [],
   "source": [
    "# Verificando nossa métrica com XGBClassifier\n",
    "# Com 5 repetições para cada divisão dos dados em 3 splits\n",
    "\n",
    "resultados = []\n",
    "for rep in range(5):\n",
    "  print ('Repetição :',rep)\n",
    "  kf = KFold(n_splits=3, shuffle=True, random_state = rep)\n",
    "\n",
    "  for linhas_treino, linhas_teste in kf.split(X):\n",
    "    print('Treino :', linhas_treino.shape[0])\n",
    "    print('Teste :', linhas_teste.shape[0])\n",
    "\n",
    "    X_train, X_test = X.iloc[linhas_treino], X.iloc[linhas_teste]\n",
    "    y_train, y_test = y.iloc[linhas_treino], y.iloc[linhas_teste]\n",
    "\n",
    "    ml_model = XGBClassifier(learning_rate=0.0145, n_estimators=1000, max_depth=6, subsample=1.0, colsample_bytree=1.0, gamma=1,\n",
    "                         random_state=0, n_jobs=1) # 84.84\n",
    "    ml_model.fit(X_train, y_train)\n",
    "\n",
    "    p = ml_model.predict(X_test)\n",
    "\n",
    "    acc = np.mean(y_test == p)\n",
    "\n",
    "    resultados.append(acc)\n",
    "\n",
    "    print()\n",
    "    print('Acurácia',acc)\n",
    "    print()"
   ],
   "metadata": {
    "collapsed": false,
    "pycharm": {
     "name": "#%%\n"
    }
   }
  },
  {
   "cell_type": "code",
   "execution_count": null,
   "outputs": [],
   "source": [
    "# Nossa acurácia média\n",
    "np.mean(resultados)"
   ],
   "metadata": {
    "collapsed": false,
    "pycharm": {
     "name": "#%%\n"
    }
   }
  }
 ],
 "metadata": {
  "kernelspec": {
   "display_name": "Python 3.10.4 64-bit",
   "language": "python",
   "name": "python3"
  },
  "language_info": {
   "name": "python",
   "version": "3.10.4"
  },
  "orig_nbformat": 4,
  "vscode": {
   "interpreter": {
    "hash": "ed3943dba37f3ed717092a780584c496f36863d6c99891baccd6632ecc02cdda"
   }
  }
 },
 "nbformat": 4,
 "nbformat_minor": 2
}